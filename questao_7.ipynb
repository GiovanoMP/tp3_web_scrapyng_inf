{
 "cells": [
  {
   "cell_type": "code",
   "execution_count": null,
   "metadata": {},
   "outputs": [],
   "source": [
    "Exercício 7: \n",
    "\n",
    "Repita a questão anterior utilizando um site de notícias de sua escolha."
   ]
  },
  {
   "cell_type": "code",
   "execution_count": 2,
   "metadata": {},
   "outputs": [
    {
     "name": "stdout",
     "output_type": "stream",
     "text": [
      "Notícia salva com sucesso no arquivo resultados\\noticia_oglobo.json\n"
     ]
    }
   ],
   "source": [
    "import requests\n",
    "from bs4 import BeautifulSoup\n",
    "import json\n",
    "from datetime import datetime\n",
    "import pytz\n",
    "import os\n",
    "\n",
    "# URL da notícia\n",
    "url = \"https://oglobo.globo.com/politica/eleicoes-2024/noticia/2024/09/16/analise-cadeirada-vira-meme-imediato-mas-consequencias-ainda-sao-incertas.ghtml\"\n",
    "\n",
    "# Realizar a requisição HTTP\n",
    "response = requests.get(url)\n",
    "page_content = response.text\n",
    "\n",
    "# Salvando o HTML em um arquivo local\n",
    "html_file_path = \"noticia_oglobo.html\"\n",
    "with open(html_file_path, \"w\", encoding=\"utf-8\") as file:\n",
    "    file.write(page_content)\n",
    "\n",
    "# Parsing do conteúdo HTML\n",
    "soup = BeautifulSoup(page_content, \"html.parser\")\n",
    "\n",
    "# Obter o datetime da requisição com timezone\n",
    "timezone = pytz.timezone('America/Sao_Paulo')\n",
    "request_datetime = datetime.now(timezone).isoformat()\n",
    "\n",
    "# Capturando a data de publicação\n",
    "pub_time_tag = soup.find(\"meta\", {\"property\": \"article:published_time\"})\n",
    "publication_datetime = pub_time_tag[\"content\"] if pub_time_tag else \"Data de publicação não encontrada\"\n",
    "\n",
    "# Capturando o título da notícia\n",
    "title_tag = soup.find(\"h1\", class_=\"content-head__title\")\n",
    "title = title_tag.text.strip() if title_tag else \"Título não encontrado\"\n",
    "\n",
    "# Capturando o subtítulo da notícia (se houver)\n",
    "subtitle_tag = soup.find(\"h2\", class_=\"content-head__subtitle\")\n",
    "subtitle = subtitle_tag.text.strip() if subtitle_tag else \"Subtítulo não encontrado\"\n",
    "\n",
    "# Capturando o autor da notícia (se houver)\n",
    "author_tag = soup.find(\"p\", class_=\"content-publication-data__from\")\n",
    "author = author_tag.text.strip() if author_tag else \"Autor não encontrado\"\n",
    "\n",
    "# Capturando o corpo da notícia\n",
    "body_content = soup.find_all(\"p\", class_=\"content-text__container\")\n",
    "body = \"\\n\".join([paragraph.get_text() for paragraph in body_content]) if body_content else \"Corpo da notícia não encontrado\"\n",
    "\n",
    "# Criar um dicionário com os dados extraídos\n",
    "news_data = {\n",
    "    \"url\": url,\n",
    "    \"request_datetime\": request_datetime,\n",
    "    \"publication_datetime\": publication_datetime,\n",
    "    \"title\": title,\n",
    "    \"subtitle\": subtitle,\n",
    "    \"author\": author,\n",
    "    \"body\": body\n",
    "}\n",
    "\n",
    "# Verificar se a pasta 'resultados' existe, senão, criá-la\n",
    "if not os.path.exists('resultados'):\n",
    "    os.makedirs('resultados')\n",
    "\n",
    "# Salvando o dicionário em um arquivo JSON\n",
    "json_file_path = os.path.join('resultados', \"noticia_oglobo.json\")\n",
    "with open(json_file_path, \"w\", encoding=\"utf-8\") as json_file:\n",
    "    json.dump(news_data, json_file, ensure_ascii=False, indent=4)\n",
    "\n",
    "print(f\"Notícia salva com sucesso no arquivo {json_file_path}\")\n"
   ]
  },
  {
   "cell_type": "code",
   "execution_count": null,
   "metadata": {},
   "outputs": [],
   "source": []
  }
 ],
 "metadata": {
  "kernelspec": {
   "display_name": "Python 3",
   "language": "python",
   "name": "python3"
  },
  "language_info": {
   "codemirror_mode": {
    "name": "ipython",
    "version": 3
   },
   "file_extension": ".py",
   "mimetype": "text/x-python",
   "name": "python",
   "nbconvert_exporter": "python",
   "pygments_lexer": "ipython3",
   "version": "3.11.3"
  }
 },
 "nbformat": 4,
 "nbformat_minor": 2
}
